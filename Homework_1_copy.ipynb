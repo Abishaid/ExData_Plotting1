{
  "nbformat": 4,
  "nbformat_minor": 0,
  "metadata": {
    "colab": {
      "provenance": [],
      "include_colab_link": true
    },
    "kernelspec": {
      "name": "python3",
      "display_name": "Python 3"
    },
    "language_info": {
      "name": "python"
    }
  },
  "cells": [
    {
      "cell_type": "markdown",
      "metadata": {
        "id": "view-in-github",
        "colab_type": "text"
      },
      "source": [
        "<a href=\"https://colab.research.google.com/github/Abishaid/ExData_Plotting1/blob/master/Homework_1_copy.ipynb\" target=\"_parent\"><img src=\"https://colab.research.google.com/assets/colab-badge.svg\" alt=\"Open In Colab\"/></a>"
      ]
    },
    {
      "cell_type": "markdown",
      "source": [
        "## Tips\n",
        "- Modify files by opening/editing them in the UI (double-click to open).\n",
        "- `Right click > Refresh` in the Colab file explorer to update the directory.\n",
        "- All files are lost when the Colab session disconnects, so make sure back up your work.\n",
        "- Do **not** use `drive.mount` for your datasets! Reading from GDrive is super slow.\n",
        "- Instead, place datasets into the `/content/` folder and modify your data accordingly.\n",
        "\n",
        "Make a copy of this notebook and feel free to modify this to however you like!\n",
        "\n",
        "If you have some additional colab tips, please share them on the discussion forum.\n",
        "\n",
        "## Setup\n",
        "\n",
        "First, enable a CPU runtime via `Runtime > Change runtime type > CPU`.  In future homework assignments, change the runtime type to T4 GPU.\n",
        "\n",
        "Next, upload the your project files to the Colab. You can do this by either\n",
        "- using Github (**recommended**)\n",
        "- uploading files manually using the UI\n",
        "\n",
        "## Github Setup\n",
        "\n",
        "You can use git from within Google Colab!\n",
        "\n",
        "For this section, we assume you know how to use git and have already pushed the starter code to a __private__ repo.\n",
        "\n",
        "It's a good idea to structure your repo something like\n",
        "```\n",
        "deep_learning/\n",
        "    homework1/\n",
        "    homework2/\n",
        "    ...\n",
        "```\n",
        "\n",
        "We highly recommend using this workflow as you'll be able to easily pull/commit your changes after modifying your model on Colab.\n",
        "\n",
        "To do this, you'll need a personal access token from [https://github.com/settings/tokens](https://github.com/settings/tokens)\n",
        "\n",
        "The easiest thing to do is select \"classic\" token and make sure you have the `repo` scope selected to allow access to your private repos.\n",
        "There's also fine-grained tokens where you can select access to specific repos.\n",
        "\n",
        "Once you have your token, fill in your information and then run the following.\n",
        "\n"
      ],
      "metadata": {
        "id": "UA-poW0UN449"
      }
    },
    {
      "cell_type": "code",
      "execution_count": null,
      "metadata": {
        "id": "JG_kpM7ON2jM"
      },
      "outputs": [],
      "source": [
        "import os\n",
        "\n",
        "\n",
        "os.environ['USER'] = 'zins-lf'\n",
        "os.environ['REPO'] = 'dl-hw'\n",
        "os.environ['TOKEN'] = 'mYseCretToKEn'\n",
        "\n",
        "# do everything in colab's \"root\" directory\n",
        "%cd /content\n",
        "!git clone https://${TOKEN}@github.com/${USER}/${REPO}.git\n",
        "\n",
        "# make sure your repo shows up\n",
        "%ls"
      ]
    },
    {
      "cell_type": "markdown",
      "source": [
        "## More Setup"
      ],
      "metadata": {
        "id": "k5waQrGcQNTB"
      }
    },
    {
      "cell_type": "code",
      "source": [
        "# navigate to your repo\n",
        "%cd /content/{os.environ['REPO']}\n",
        "%ls\n",
        "\n",
        "# go to a specific homework\n",
        "%cd homework1\n",
        "%ls"
      ],
      "metadata": {
        "id": "akGMQGduQI6S"
      },
      "execution_count": null,
      "outputs": []
    },
    {
      "cell_type": "markdown",
      "source": [
        "## Starting the assignment\n",
        "\n",
        "Read through the README.md for the next steps in the assignment.  \n",
        "\n",
        "Below is an example of how to experiment with functions outside of the local grader.  "
      ],
      "metadata": {
        "id": "Q5ymg37RTX1d"
      }
    },
    {
      "cell_type": "code",
      "source": [
        "import torch\n",
        "import importlib\n",
        "from homework import pytorch_basics\n",
        "from grader.slow_pytorch_basics import PyTorchBasics as pbs\n",
        "\n",
        "\n",
        "# Reload pytorch basics each time you save, otherwise colab will reference the old code\n",
        "importlib.reload(pytorch_basics)\n",
        "pb = pytorch_basics.PyTorchBasics\n",
        "\n",
        "# Input Tensor\n",
        "arr_case = torch.arange(10).float()[1:]\n",
        "print(f\"Input: {arr_case}\")\n",
        "\n",
        "# Alternatively from you can pull the input data from ./grader/tests.py\n",
        "# cases = [(torch.tensor([[0.0, 0.0], [0.0, 0.0]])),  (torch.tensor([[1.0, 2.0], [4.0, 5.0], [7.0, 8.0]])),   (torch.tensor([[1.0, 2.0, 3.0], [4.0, 5.0, 6.0]])),]\n",
        "# for case in cases:\n",
        "# ...\n",
        "\n",
        "# Slow code is in the comments under the make_it_pytorch_ functions\n",
        "output_slow = pbs.make_it_pytorch_1(arr_case)\n",
        "output_fast = pb.make_it_pytorch_1(arr_case)\n",
        "\n",
        "print(f\"Output slow: {output_slow}\")\n",
        "print(f\"Output fast: {output_fast}\")"
      ],
      "metadata": {
        "id": "5dLwYD8ITx55"
      },
      "execution_count": null,
      "outputs": []
    },
    {
      "cell_type": "markdown",
      "source": [
        "## Grader\n",
        "\n",
        "Run the following cell to grade your homework.\n"
      ],
      "metadata": {
        "id": "f1qT9rkNQWoa"
      }
    },
    {
      "cell_type": "code",
      "source": [
        "#!python3 -m grader homework -vv # Run this command if you are using a dark themed web browser\n",
        "!python3 -m grader homework -vv --disable_color"
      ],
      "metadata": {
        "id": "imOxeU7EQJDR"
      },
      "execution_count": null,
      "outputs": []
    },
    {
      "cell_type": "markdown",
      "source": [
        "## Update your changes"
      ],
      "metadata": {
        "id": "hwY-9TVLQ1MF"
      }
    },
    {
      "cell_type": "code",
      "source": [
        "%ls\n",
        "!git status\n",
        "\n",
        "# Be careful not to \"git add *\" since there are datasets and logs\n",
        "!git add homework/*.py\n",
        "!git config --global user.email \"GITHUB_EMAIL\"\n",
        "!git config --global user.name \"GITHUB_USER\"\n",
        "!git commit -m \"update\"\n",
        "!git push origin main"
      ],
      "metadata": {
        "id": "BX6z623nQJIf"
      },
      "execution_count": null,
      "outputs": []
    },
    {
      "cell_type": "markdown",
      "source": [
        "## Submission\n",
        "\n",
        "Run the following cell to bundle your submission (modify UTID accordingly).\n",
        "\n",
        "If you notice that your bundle is too large, you can modify the `bundle.py` script and ignore large files by adding them manually to `BLACKLIST`.\n",
        "\n",
        "After the bundler and grader run, right click and download your bundled `.zip` file from the Colab UI."
      ],
      "metadata": {
        "id": "-nrw1fEjRJDU"
      }
    },
    {
      "cell_type": "code",
      "source": [
        "!python3 bundle.py homework UTID\n",
        "\n",
        "# optional: run the grader with your bundled homework to double check\n",
        "!python3 -m grader UTID.zip -vv"
      ],
      "metadata": {
        "id": "IGyKE7ePQJLG"
      },
      "execution_count": null,
      "outputs": []
    }
  ]
}